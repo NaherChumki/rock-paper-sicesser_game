{
  "nbformat": 4,
  "nbformat_minor": 0,
  "metadata": {
    "colab": {
      "provenance": []
    },
    "kernelspec": {
      "name": "python3",
      "display_name": "Python 3"
    },
    "language_info": {
      "name": "python"
    }
  },
  "cells": [
    {
      "cell_type": "code",
      "source": [
        "import random\n",
        "while True:\n",
        "   choices=['rock','peper','sicesser']\n",
        "\n",
        "   computer=random.choice(choices)\n",
        "   player=None\n",
        "\n",
        "   while player not in choices:\n",
        "    player=input('rock,peper,sicesser:').lower()\n",
        "\n",
        "\n",
        "\n",
        "   if player==computer:\n",
        "     print(\"computer : \",computer)\n",
        "     print(\"player : \",player)\n",
        "     print(\"You tie..,wow\")\n",
        "\n",
        "   elif player=='rock':\n",
        "\n",
        "     if computer=='peper':\n",
        "      print(\"computer : \",computer)\n",
        "      print(\"player : \",player)\n",
        "      print(\"You loss..\")\n",
        "     if computer=='sicesser':\n",
        "      print(\"computer : \",computer)\n",
        "      print(\"player : \",player)\n",
        "      print(\"You Win..\")\n",
        "\n",
        "\n",
        "   elif player=='sicesser':\n",
        "\n",
        "       if computer=='rock':\n",
        "         print(\"computer : \",computer)\n",
        "         print(\"player : \",player)\n",
        "         print(\"You loss..\")\n",
        "       if computer=='peper':\n",
        "         print(\"computer : \",computer)\n",
        "         print(\"player : \",player)\n",
        "         print(\"You Win..\")\n",
        "\n",
        "   elif player=='peper':\n",
        "\n",
        "      if computer=='rock':\n",
        "       print(\"computer : \",computer)\n",
        "       print(\"player : \",player)\n",
        "       print(\"You loss..\")\n",
        "       if computer=='rock':\n",
        "         print(\"computer : \",computer)\n",
        "         print(\"player : \",player)\n",
        "         print(\"You Win..\")\n",
        "\n",
        "   play_again=input(\"do you wanna play again : (y/n)\").lower()\n",
        "   if play_again=='n':\n",
        "        break\n",
        "print('bye')\n"
      ],
      "metadata": {
        "colab": {
          "base_uri": "https://localhost:8080/"
        },
        "id": "BFc-ARRQ9KX9",
        "outputId": "2f4a0ad9-0427-4ee3-f10e-840a79f4dc45"
      },
      "execution_count": null,
      "outputs": [
        {
          "output_type": "stream",
          "name": "stdout",
          "text": [
            "rock,peper,sicesser:rock\n",
            "computer :  peper\n",
            "player :  rock\n",
            "You loss..\n",
            "do you wanna play again : (y/n)peper\n",
            "rock,peper,sicesser:peper\n",
            "computer :  rock\n",
            "player :  peper\n",
            "You loss..\n",
            "computer :  rock\n",
            "player :  peper\n",
            "You Win..\n",
            "do you wanna play again : (y/n)n\n",
            "bye\n"
          ]
        }
      ]
    },
    {
      "cell_type": "code",
      "source": [],
      "metadata": {
        "id": "ovcuFWty9Krz"
      },
      "execution_count": null,
      "outputs": []
    },
    {
      "cell_type": "code",
      "source": [],
      "metadata": {
        "id": "8es-fcFi9Kuf"
      },
      "execution_count": null,
      "outputs": []
    },
    {
      "cell_type": "code",
      "source": [],
      "metadata": {
        "id": "5PzR_7tx9KxR"
      },
      "execution_count": null,
      "outputs": []
    },
    {
      "cell_type": "code",
      "source": [],
      "metadata": {
        "id": "NF10Lbty9K0d"
      },
      "execution_count": null,
      "outputs": []
    }
  ]
}